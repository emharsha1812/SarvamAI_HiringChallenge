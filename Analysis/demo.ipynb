{
 "cells": [
  {
   "cell_type": "code",
   "execution_count": 4,
   "metadata": {},
   "outputs": [],
   "source": [
    "from selenium import webdriver\n",
    "from selenium.webdriver.chrome.service import Service\n",
    "from selenium.webdriver.common.by import By\n",
    "from selenium.webdriver.common.action_chains import ActionChains\n",
    "from selenium.webdriver.support.ui import WebDriverWait\n",
    "from selenium.webdriver.support import expected_conditions as EC\n",
    "from webdriver_manager.chrome import ChromeDriverManager\n",
    "from selenium import webdriver\n",
    "from selenium.webdriver.chrome.options import Options\n",
    "from selenium.webdriver.common.by import By\n",
    "from selenium.webdriver.common.keys import Keys\n",
    "from selenium.webdriver.support.ui import WebDriverWait\n",
    "from selenium.webdriver.support import expected_conditions as EC\n",
    "# Options\n",
    "chrome_options = Options()\n",
    "chrome_options.add_argument('--headless')\n",
    "chrome_options.add_argument('--no-sandbox')\n",
    "chrome_options.add_argument('--disable-dev-shm-usage')"
   ]
  },
  {
   "cell_type": "code",
   "execution_count": 10,
   "metadata": {},
   "outputs": [],
   "source": [
    "# Initialize the Chrome WebDriver\n",
    "chrome_options = webdriver.ChromeOptions()\n",
    "# Add headless option if necessary\n",
    "# chrome_options.add_argument(\"--headless\")\n",
    "driver = webdriver.Chrome(service=Service(ChromeDriverManager().install()), options=chrome_options)\n",
    "\n",
    "driver.get(\"https://www.google.com/recaptcha/api2/demo\")\n",
    "\n",
    "driver.maximize_window()\n",
    "price = driver.find_element(By.XPATH,\"//div[@class='g-recaptcha']\")\n",
    "price_content = price.get_attribute('innerHTML')\n",
    "start = str(price_content).find(\";k=\")+len(\";k=\")\n",
    "end = str(price_content).find(\"&amp;co\")\n",
    "driver.implicitly_wait(20)\n",
    "driver.execute_script(\"document.getElementById('g-recaptcha-response').style.display = '';\")\n",
    "recaptcha_text_area = driver.find_element(By.ID,\"g-recaptcha-response\")\n",
    "    \n",
    "recaptcha_text_area.clear()\n",
    "recaptcha_text_area.send_keys(price_content[start:end])\n",
    "#.....................................................................................\n",
    "    \n",
    "button = driver.find_element(By.ID,\"recaptcha-demo-submit\")\n",
    "\n"
   ]
  },
  {
   "cell_type": "code",
   "execution_count": null,
   "metadata": {},
   "outputs": [],
   "source": []
  }
 ],
 "metadata": {
  "kernelspec": {
   "display_name": "Python 3",
   "language": "python",
   "name": "python3"
  },
  "language_info": {
   "codemirror_mode": {
    "name": "ipython",
    "version": 3
   },
   "file_extension": ".py",
   "mimetype": "text/x-python",
   "name": "python",
   "nbconvert_exporter": "python",
   "pygments_lexer": "ipython3",
   "version": "3.10.11"
  }
 },
 "nbformat": 4,
 "nbformat_minor": 2
}
